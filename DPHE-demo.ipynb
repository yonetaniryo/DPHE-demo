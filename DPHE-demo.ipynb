{
 "cells": [
  {
   "cell_type": "code",
   "execution_count": 1,
   "metadata": {},
   "outputs": [],
   "source": [
    "import phe   # installed via pip\n",
    "import numpy as np\n",
    "\n",
    "def generate_vct(D=100, NZ=10):\n",
    "    v = np.random.randint(0, 10, NZ)\n",
    "    K = np.random.permutation(D)[:NZ]\n",
    "    w = np.zeros(D).astype('int')\n",
    "    w[K] = v\n",
    "    return w, v, K\n",
    "\n",
    "def dphe_genkey(keylen=128, D=100, NU=3):\n",
    "    enc, dec = phe.generate_paillier_keypair(n_length=keylen)\n",
    "    E0 = enc.encrypt(0)\n",
    "    Pi = [np.random.permutation(D) for _ in range(NU)]\n",
    "    P = np.random.permutation(D)\n",
    "    return enc, dec, E0, Pi, P\n",
    "\n",
    "def dphe_enc(v, K, enc, Pi, P):\n",
    "    e = [enc.encrypt(v_) for v_ in v]\n",
    "    DK = Pi[P[K]]    \n",
    "    return e, DK \n",
    "\n",
    "def dphe_recon(e, DK, Pi, E0):\n",
    "    SK = np.argsort(Pi)[DK]\n",
    "    SEw = np.hstack([E0 for _ in range(len(Pi))])\n",
    "    for i in range(len(SK)):\n",
    "        SEw[SK[i]] = e[i]\n",
    "    return SEw\n",
    "\n",
    "def dphe_dec(SEw, dec, P):\n",
    "    Sw = np.hstack([dec.decrypt(ew_) for ew_ in SEw])\n",
    "    w = Sw[P]\n",
    "    \n",
    "    return w\n",
    "\n",
    "def baseline_enc(w, enc):\n",
    "    ew = np.hstack([enc.encrypt(w_) for w_ in w])\n",
    "    return ew\n",
    "\n",
    "def baseline_dec(ew, dec):\n",
    "    w = np.hstack([dec.decrypt(ew_) for ew_ in ew])\n",
    "    return w"
   ]
  },
  {
   "cell_type": "markdown",
   "metadata": {},
   "source": [
    "Let's begin by a simple secure-sum problem. Users 1, 2, 3 have a secret value $a_1, a_2, a_3$, respectively. An aggregator wishes to compute the sum of these values, $\\sum_i a_i$, while keeping each $a_i$ secret."
   ]
  },
  {
   "cell_type": "code",
   "execution_count": 2,
   "metadata": {
    "scrolled": true
   },
   "outputs": [
    {
     "name": "stdout",
     "output_type": "stream",
     "text": [
      "a1: 1 a2: 2 a3: 3\n"
     ]
    }
   ],
   "source": [
    "a1 = 1\n",
    "a2 = 2\n",
    "a3 = 3\n",
    "print 'a1:', a1, 'a2:', a2, 'a3:', a3"
   ]
  },
  {
   "cell_type": "markdown",
   "metadata": {},
   "source": [
    "To solve this problem, we use Paillier homomorphic cryptosystem. First, a certain key generator issues both encryption and decryption keys. He then distributes the encryption key to the parties."
   ]
  },
  {
   "cell_type": "code",
   "execution_count": 3,
   "metadata": {
    "collapsed": true
   },
   "outputs": [],
   "source": [
    "# Key generator side\n",
    "enc, dec = phe.generate_paillier_keypair(n_length=1024)"
   ]
  },
  {
   "cell_type": "markdown",
   "metadata": {},
   "source": [
    "Users encrypt their secret value with the given key and send the ciphertext to the aggregator. Since the aggregator does not have a decryption key, he cannot identify plaintext $a_i$ from the ciphertext $E(a_i)$."
   ]
  },
  {
   "cell_type": "code",
   "execution_count": 4,
   "metadata": {},
   "outputs": [
    {
     "name": "stdout",
     "output_type": "stream",
     "text": [
      "E(a1): 9818165258279516697981057867858941026201112128676847046501819099837080152386082662253067759962086104407916371785728394643155714388067505352951175484095036617696628082547114146442942644763113227275261352331713264124776033453373973525891038708718073912852842699360397251817771559231584108735949759034869841782564526304806441167391910022053125077100308911802626677450559353227890997019220616611975794700019508836218080578266058102145707355929978725547685437405960831752205328795567997038791620459743630461558411361861716833202776169670327174803692207298696389814524381670273500226373266134917391256374080000970104456012\n",
      "E(a2): 7306151430217407652128169292759165771160125758633718099187138592348595903373554378825714504317272257765654746149827420128831021624132939791412529552587091351597987940885133966904015837890328616002406070260996260713717358795348665828916915353996035114023767636307351648857016207623403925958845207423628933761793219497566907938048212846573516027961243540036811720694538925783622365718175714980714333476486569434779510461850612892064682130528070655955845492510678159298603893780989741009185111613334290216082469664234007064712312642881686982558804477263427951150824339690730903172159000683753564655554915859817990220154\n",
      "E(a3): 4823778605735209146633490529900492261322382594649305996213411821833996070743425491415123142844042129705518180349617979809134846553825373204086604376406237643992019268555417736530768859964841373232548275184185833422259728963896837082128719500559980631601491889302955048242321854337659641575340915068866833680267298266094087418279762279971615033358675023462183128519865818763903405005499642534352931968869923846728723079768042311565472183137942776767011101626290658811826730357646427111733721006026036683582058291467893645023664693439180242061384334407663693986687943545554301472447718755153424236858265367810497642014\n"
     ]
    }
   ],
   "source": [
    "# User side\n",
    "\n",
    "e1 = enc.encrypt(a1)\n",
    "e2 = enc.encrypt(a2)\n",
    "e3 = enc.encrypt(a3)\n",
    "print 'E(a1):', e1.ciphertext()\n",
    "print 'E(a2):', e2.ciphertext()\n",
    "print 'E(a3):', e3.ciphertext()"
   ]
  },
  {
   "cell_type": "markdown",
   "metadata": {},
   "source": [
    "With that said, the aggregator is still able to compute the encrypted sum of plaintexts: $E(\\sum a_i)= \\prod E(a_i)$"
   ]
  },
  {
   "cell_type": "code",
   "execution_count": 5,
   "metadata": {},
   "outputs": [
    {
     "name": "stdout",
     "output_type": "stream",
     "text": [
      "E(\\sum ai): 5740316976987220801254426437017751356156962861712774716232866779664686187337884696195935314626663663264195963729080253856478992121687305958632136922519939260595393228901264725902342620355583206789643010957909747689398060656864916849632669074987283460797299400892309666585125267745152069580024620465478694272854710555235646900552736719441632675473772811542296529736560389312580572538810407430911753527168342289528848507976769212013006441549335342876172008324123487832488639320536528619547566480633511040666129271238854495845930081662846476838704647597711976254166709011443635578141464179372094004642812472219520547657\n"
     ]
    }
   ],
   "source": [
    "# Aggregator side\n",
    "e_sum = e1 + e2 + e3\n",
    "print 'E(\\sum ai):', e_sum.ciphertext()"
   ]
  },
  {
   "cell_type": "markdown",
   "metadata": {},
   "source": [
    "Finally, the aggregator asks the key generator to decrypt $E(\\sum a_i)$. Although the aggregator and the key generator have $\\sum a_i$, they cannot identify each $a_i$ from this information."
   ]
  },
  {
   "cell_type": "code",
   "execution_count": 6,
   "metadata": {},
   "outputs": [
    {
     "name": "stdout",
     "output_type": "stream",
     "text": [
      "\\sum ai: 6\n"
     ]
    }
   ],
   "source": [
    "# Key generator side\n",
    "a_sum = dec.decrypt(e_sum)\n",
    "print '\\sum ai:', a_sum"
   ]
  },
  {
   "cell_type": "markdown",
   "metadata": {},
   "source": [
    "Let's go on a more general case. Now, each user has a high-dimensional sparse vector."
   ]
  },
  {
   "cell_type": "code",
   "execution_count": 7,
   "metadata": {},
   "outputs": [
    {
     "name": "stdout",
     "output_type": "stream",
     "text": [
      "w1: [0 0 0 0 0 0 0 0 0 0 0 5 0 0 0 8 0 0 0 0 0 0 0 6 2 0 0 0 0 0 0 0 0 0 0 0 0\n",
      " 4 0 0 0 0 0 0 0 0 0 0 0 0 0 0 4 0 0 0 0 0 0 0 0 0 0 4 0 0 0 0 0 0 0 0 0 0\n",
      " 0 0 0 0 0 0 0 0 0 0 9 0 0 0 0 0 0 1 0 0 0 0 0 0 0 0 6 0 0 0 0 2 0 0 0 0 0\n",
      " 0 0 5 2 0 0 2 0 0 0 0 0 0 0 0 0 0 0 0 0 0 0 0 0 0 0 0 0 0 0 0 6 0 0 1 0 0\n",
      " 0 0 0 0 0 9 0 0 0 0 4 0 0 0 0 0 0 0 0 0 0 0 0 0 0 0 0 0 0 0 0 0 3 0 0 0 0\n",
      " 0 0 0 0 0 0 0 0 0 0 0 0 0 0 0]\n",
      "w2: [0 0 0 0 0 0 3 0 0 0 0 0 0 0 0 0 0 0 0 0 0 9 0 0 9 0 0 2 0 0 0 0 0 0 0 0 4\n",
      " 4 0 0 0 0 9 0 0 0 0 0 0 0 0 0 0 0 0 0 0 0 0 6 0 0 0 0 0 0 0 0 0 0 0 0 0 0\n",
      " 5 0 0 4 0 0 0 0 0 0 0 0 0 0 0 0 0 0 7 0 0 0 0 0 0 0 0 0 5 0 0 0 0 0 0 0 0\n",
      " 0 0 0 0 0 0 0 3 0 0 0 0 0 0 0 0 0 0 0 0 0 0 0 0 0 0 0 0 0 0 0 0 0 0 0 6 0\n",
      " 0 0 0 0 0 0 0 0 0 0 0 0 0 0 0 0 0 0 2 0 0 0 0 0 0 0 0 0 0 0 0 0 7 0 0 0 0\n",
      " 0 0 0 0 0 0 0 6 0 0 0 0 0 0 9]\n",
      "w3: [0 0 0 0 0 0 0 0 0 0 1 0 0 0 0 0 0 0 0 0 0 1 0 0 0 0 0 0 0 0 7 0 0 0 0 0 6\n",
      " 0 0 0 0 4 0 0 0 0 0 0 0 0 0 0 0 0 0 0 5 0 3 0 0 0 0 0 0 0 0 0 0 0 0 0 0 0\n",
      " 0 0 0 3 0 0 0 0 0 0 0 0 0 0 4 0 0 0 0 0 0 0 0 0 0 0 0 0 0 1 0 3 0 0 0 0 0\n",
      " 0 0 0 0 0 0 0 0 0 0 0 0 0 0 0 0 0 0 0 0 0 0 0 0 0 0 0 0 0 0 0 0 0 0 0 0 0\n",
      " 0 0 0 0 0 0 0 0 0 0 5 0 0 0 0 0 0 0 0 9 0 0 0 0 3 0 0 0 0 0 0 0 0 3 0 0 0\n",
      " 4 3 0 0 0 0 0 0 0 0 0 0 0 0 0]\n"
     ]
    }
   ],
   "source": [
    "keylen = 1024\n",
    "D = 200\n",
    "NZ = 20\n",
    "NU = 3\n",
    "w1, v1, K1 = generate_vct(D, NZ)\n",
    "w2, v2, K2 = generate_vct(D, NZ)\n",
    "w3, v3, K3 = generate_vct(D, NZ)\n",
    "print 'w1:', w1\n",
    "print 'w2:', w2\n",
    "print 'w3:', w3"
   ]
  },
  {
   "cell_type": "markdown",
   "metadata": {},
   "source": [
    "The straightforward extension of the previous secure-sum algorithm to accept vector inputs is to apply Paillier encryption element-wise. However, this takes a lot of encryption time."
   ]
  },
  {
   "cell_type": "code",
   "execution_count": 8,
   "metadata": {},
   "outputs": [
    {
     "name": "stdout",
     "output_type": "stream",
     "text": [
      "CPU times: user 2.18 s, sys: 28 ms, total: 2.2 s\n",
      "Wall time: 2.17 s\n"
     ]
    }
   ],
   "source": [
    "%%time\n",
    "\n",
    "## User side\n",
    "ew1 = baseline_enc(w1, enc)\n",
    "ew2 = baseline_enc(w2, enc)\n",
    "ew3 = baseline_enc(w3, enc)"
   ]
  },
  {
   "cell_type": "code",
   "execution_count": 9,
   "metadata": {
    "scrolled": true
   },
   "outputs": [
    {
     "name": "stdout",
     "output_type": "stream",
     "text": [
      "\\sum w: [ 0  0  0  0  0  0  3  0  0  0  1  5  0  0  0  8  0  0  0  0  0 10  0  6 11\n",
      "  0  0  2  0  0  7  0  0  0  0  0 10  8  0  0  0  4  9  0  0  0  0  0  0  0\n",
      "  0  0  4  0  0  0  5  0  3  6  0  0  0  4  0  0  0  0  0  0  0  0  0  0  5\n",
      "  0  0  7  0  0  0  0  0  0  9  0  0  0  4  0  0  1  7  0  0  0  0  0  0  0\n",
      "  6  0  5  1  0  5  0  0  0  0  0  0  0  5  2  0  0  2  3  0  0  0  0  0  0\n",
      "  0  0  0  0  0  0  0  0  0  0  0  0  0  0  0  0  0  6  0  0  1  6  0  0  0\n",
      "  0  0  0  9  0  0  0  0  9  0  0  0  0  0  0  0  2  9  0  0  0  0  3  0  0\n",
      "  0  0  0  0  0 10  3  0  0  0  4  3  0  0  0  0  0  6  0  0  0  0  0  0  9] diff: 0.0\n"
     ]
    }
   ],
   "source": [
    "# Aggregator side\n",
    "sum_ew = ew1 + ew2 + ew3\n",
    "\n",
    "# Key generator side\n",
    "sum_w = baseline_dec(sum_ew, dec)\n",
    "print '\\sum w:', sum_w, 'diff:', np.linalg.norm(sum_w - (w1 + w2 + w3))"
   ]
  },
  {
   "cell_type": "markdown",
   "metadata": {},
   "source": [
    "Our DPHE is an efficient encryption scheme tailored to such high-dimensional sparse data. We apply the Paillier encryption only to non-zero values of a vector. Non-zero indices are shuffled with two different permutation matrices: 1) User-Aggregator matrix $P_i$ shared only between $i$-th user and the aggregator, and 2) User-shared matrix $P$ shared among all users but the aggregator. These two matrices are generated together with Paillier keys by a key generator."
   ]
  },
  {
   "cell_type": "code",
   "execution_count": 10,
   "metadata": {},
   "outputs": [],
   "source": [
    "# Key generator side\n",
    "enc, dec, E0, Pi, P = dphe_genkey(keylen, D, NU)"
   ]
  },
  {
   "cell_type": "code",
   "execution_count": 11,
   "metadata": {},
   "outputs": [
    {
     "name": "stdout",
     "output_type": "stream",
     "text": [
      "CPU times: user 284 ms, sys: 8 ms, total: 292 ms\n",
      "Wall time: 290 ms\n"
     ]
    }
   ],
   "source": [
    "%%time\n",
    "\n",
    "# User side\n",
    "ev1, DK1 = dphe_enc(v1, K1, enc, Pi[0], P)\n",
    "ev2, DK2 = dphe_enc(v2, K2, enc, Pi[1], P)\n",
    "ev3, DK3 = dphe_enc(v3, K3, enc, Pi[2], P)"
   ]
  },
  {
   "cell_type": "markdown",
   "metadata": {},
   "source": [
    "As the aggregator has the only $E(v_i)$ (encryption of non-zero values), $P_iPK_i$ (doubly-permuted non-zero indices, and $P_i$, he cannot identify neither $v_i$ nor $K_i$. However, he is still able to compute $PE(w_i)$ and thus $PE(\\sum w_i)$. Finally, the key generator decrypt $PE(\\sum w_i)$ to share $\\sum w_i$."
   ]
  },
  {
   "cell_type": "code",
   "execution_count": 12,
   "metadata": {
    "scrolled": true
   },
   "outputs": [
    {
     "name": "stdout",
     "output_type": "stream",
     "text": [
      "[ 0  0  0  0  0  0  3  0  0  0  1  5  0  0  0  8  0  0  0  0  0 10  0  6 11\n",
      "  0  0  2  0  0  7  0  0  0  0  0 10  8  0  0  0  4  9  0  0  0  0  0  0  0\n",
      "  0  0  4  0  0  0  5  0  3  6  0  0  0  4  0  0  0  0  0  0  0  0  0  0  5\n",
      "  0  0  7  0  0  0  0  0  0  9  0  0  0  4  0  0  1  7  0  0  0  0  0  0  0\n",
      "  6  0  5  1  0  5  0  0  0  0  0  0  0  5  2  0  0  2  3  0  0  0  0  0  0\n",
      "  0  0  0  0  0  0  0  0  0  0  0  0  0  0  0  0  0  6  0  0  1  6  0  0  0\n",
      "  0  0  0  9  0  0  0  0  9  0  0  0  0  0  0  0  2  9  0  0  0  0  3  0  0\n",
      "  0  0  0  0  0 10  3  0  0  0  4  3  0  0  0  0  0  6  0  0  0  0  0  0  9] 0.0\n"
     ]
    }
   ],
   "source": [
    "# Aggregator side\n",
    "sew1 = dphe_recon(ev1, DK1, Pi[0], E0)\n",
    "sew2 = dphe_recon(ev2, DK2, Pi[1], E0)\n",
    "sew3 = dphe_recon(ev3, DK3, Pi[2], E0)\n",
    "sum_sew = sew1 + sew2 + sew3\n",
    "\n",
    "# Key generator side\n",
    "sum_w = dphe_dec(sum_sew, dec, P)\n",
    "print sum_w, np.linalg.norm(sum_w - (w1 + w2 + w3))"
   ]
  }
 ],
 "metadata": {
  "kernelspec": {
   "display_name": "Python 2",
   "language": "python",
   "name": "python2"
  },
  "language_info": {
   "codemirror_mode": {
    "name": "ipython",
    "version": 2
   },
   "file_extension": ".py",
   "mimetype": "text/x-python",
   "name": "python",
   "nbconvert_exporter": "python",
   "pygments_lexer": "ipython2",
   "version": "2.7.13"
  }
 },
 "nbformat": 4,
 "nbformat_minor": 2
}
